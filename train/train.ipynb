{
 "cells": [
  {
   "cell_type": "code",
   "execution_count": 1,
   "metadata": {},
   "outputs": [
    {
     "name": "stdout",
     "output_type": "stream",
     "text": [
      "100\n"
     ]
    }
   ],
   "source": [
    "language_mapping = {\n",
    "    \"TGLANG_LANGUAGE_OTHER\": \"other\",\n",
    "    \"TGLANG_LANGUAGE_1S_ENTERPRISE\": \"TGLANG_LANGUAGE_1S_ENTERPRISE\",\n",
    "    \"TGLANG_LANGUAGE_ABAP\": \"abap\",\n",
    "    \"TGLANG_LANGUAGE_ACTIONSCRIPT\": \"actionscript\",\n",
    "    \"TGLANG_LANGUAGE_ADA\": \"ada\",\n",
    "    \"TGLANG_LANGUAGE_APACHE_GROOVY\": \"groovy\",\n",
    "    \"TGLANG_LANGUAGE_APEX\": \"TGLANG_LANGUAGE_APEX\",\n",
    "    \"TGLANG_LANGUAGE_APPLESCRIPT\": \"applescript\",\n",
    "    \"TGLANG_LANGUAGE_ASP\": \"asp\",\n",
    "    \"TGLANG_LANGUAGE_ASSEMBLY\": \"assembly\",\n",
    "    \"TGLANG_LANGUAGE_AUTOHOTKEY\": \"autohotkey\",\n",
    "    \"TGLANG_LANGUAGE_AWK\": \"awk\",\n",
    "    \"TGLANG_LANGUAGE_BASIC\": \"TGLANG_LANGUAGE_BASIC\",\n",
    "    \"TGLANG_LANGUAGE_BATCH\": \"batchfile\",\n",
    "    \"TGLANG_LANGUAGE_BISON\": \"bison\",\n",
    "    \"TGLANG_LANGUAGE_C\": \"c\",\n",
    "    \"TGLANG_LANGUAGE_CLOJURE\": \"clojure\",\n",
    "    \"TGLANG_LANGUAGE_CMAKE\": \"cmake\",\n",
    "    \"TGLANG_LANGUAGE_COBOL\": \"cobol\",\n",
    "    \"TGLANG_LANGUAGE_COFFESCRIPT\": \"coffeescript\",\n",
    "    \"TGLANG_LANGUAGE_COMMON_LISP\": \"common-lisp\",\n",
    "    \"TGLANG_LANGUAGE_CPLUSPLUS\": \"c++\",\n",
    "    \"TGLANG_LANGUAGE_CRYSTAL\": \"crystal\",\n",
    "    \"TGLANG_LANGUAGE_CSHARP\": \"c-sharp\",\n",
    "    \"TGLANG_LANGUAGE_CSS\": \"css\",\n",
    "    \"TGLANG_LANGUAGE_CSV\": \"csv\",\n",
    "    \"TGLANG_LANGUAGE_D\": \"d\",\n",
    "    \"TGLANG_LANGUAGE_DART\": \"dart\",\n",
    "    \"TGLANG_LANGUAGE_DELPHI\": \"TGLANG_LANGUAGE_DELPHI\",\n",
    "    \"TGLANG_LANGUAGE_DOCKER\": \"dockerfile\",\n",
    "    \"TGLANG_LANGUAGE_ELIXIR\": \"elixir\",\n",
    "    \"TGLANG_LANGUAGE_ELM\": \"elm\",\n",
    "    \"TGLANG_LANGUAGE_ERLANG\": \"erlang\",\n",
    "    \"TGLANG_LANGUAGE_FIFT\": \"FIFT\",\n",
    "    \"TGLANG_LANGUAGE_FORTH\": \"forth\",\n",
    "    \"TGLANG_LANGUAGE_FORTRAN\": \"fortran\",\n",
    "    \"TGLANG_LANGUAGE_FSHARP\": \"f-sharp\",\n",
    "    \"TGLANG_LANGUAGE_FUNC\": \"FUNC\",\n",
    "    \"TGLANG_LANGUAGE_GAMS\": \"gams\",\n",
    "    \"TGLANG_LANGUAGE_GO\": \"go\",\n",
    "    \"TGLANG_LANGUAGE_GRADLE\": \"TGLANG_LANGUAGE_GRADLE\",\n",
    "    \"TGLANG_LANGUAGE_GRAPHQL\": \"graphql\",\n",
    "    \"TGLANG_LANGUAGE_HACK\": \"TGLANG_LANGUAGE_HACK\",\n",
    "    \"TGLANG_LANGUAGE_HASKELL\": \"haskell\",\n",
    "    \"TGLANG_LANGUAGE_HTML\": \"html\",\n",
    "    \"TGLANG_LANGUAGE_ICON\": \"TGLANG_LANGUAGE_ICON\",\n",
    "    \"TGLANG_LANGUAGE_IDL\": \"idl\",\n",
    "    \"TGLANG_LANGUAGE_INI\": \"ini\",\n",
    "    \"TGLANG_LANGUAGE_JAVA\": \"java\",\n",
    "    \"TGLANG_LANGUAGE_JAVASCRIPT\": \"javascript\",\n",
    "    \"TGLANG_LANGUAGE_JSON\": \"TGLANG_LANGUAGE_JSON\",\n",
    "    \"TGLANG_LANGUAGE_JULIA\": \"julia\",\n",
    "    \"TGLANG_LANGUAGE_KEYMAN\": \"kmn_dataset\",\n",
    "    \"TGLANG_LANGUAGE_KOTLIN\": \"kotlin\",\n",
    "    \"TGLANG_LANGUAGE_LATEX\": \"TGLANG_LANGUAGE_LATEX\",\n",
    "    \"TGLANG_LANGUAGE_LISP\": \"TGLANG_LANGUAGE_LISP\",\n",
    "    \"TGLANG_LANGUAGE_LOGO\": \"TGLANG_LANGUAGE_LOGO\",\n",
    "    \"TGLANG_LANGUAGE_LUA\": \"lua\",\n",
    "    \"TGLANG_LANGUAGE_MAKEFILE\": \"makefile\",\n",
    "    \"TGLANG_LANGUAGE_MARKDOWN\": \"markdown\",\n",
    "    \"TGLANG_LANGUAGE_MATLAB\": \"matlab\",\n",
    "    \"TGLANG_LANGUAGE_NGINX\": \"nginx\",\n",
    "    \"TGLANG_LANGUAGE_NIM\": \"TGLANG_LANGUAGE_NIM\",\n",
    "    \"TGLANG_LANGUAGE_OBJECTIVE_C\": \"TGLANG_LANGUAGE_OBJECTIVE_C\",\n",
    "    \"TGLANG_LANGUAGE_OCAML\": \"ocaml\",\n",
    "    \"TGLANG_LANGUAGE_OPENEDGE_ABL\": \"TGLANG_LANGUAGE_OPENEDGE_ABL\",\n",
    "    \"TGLANG_LANGUAGE_PASCAL\": \"pascal\",\n",
    "    \"TGLANG_LANGUAGE_PERL\": \"perl\",\n",
    "    \"TGLANG_LANGUAGE_PHP\": \"php\",\n",
    "    \"TGLANG_LANGUAGE_PL_SQL\": \"TGLANG_LANGUAGE_PL_SQL\",\n",
    "    \"TGLANG_LANGUAGE_POWERSHELL\": \"powershell\",\n",
    "    \"TGLANG_LANGUAGE_PROLOG\": \"prolog\",\n",
    "    \"TGLANG_LANGUAGE_PROTOBUF\": \"TGLANG_LANGUAGE_PROTOBUF\",\n",
    "    \"TGLANG_LANGUAGE_PYTHON\": \"python\",\n",
    "    \"TGLANG_LANGUAGE_QML\": \"qml\",\n",
    "    \"TGLANG_LANGUAGE_R\": \"r\",\n",
    "    \"TGLANG_LANGUAGE_RAKU\": \"TGLANG_LANGUAGE_RAKU\",\n",
    "    \"TGLANG_LANGUAGE_REGEX\": \"regexp\",\n",
    "    \"TGLANG_LANGUAGE_RUBY\": \"ruby\",\n",
    "    \"TGLANG_LANGUAGE_RUST\": \"rust\",\n",
    "    \"TGLANG_LANGUAGE_SAS\": \"sas\",\n",
    "    \"TGLANG_LANGUAGE_SCALA\": \"scala\",\n",
    "    \"TGLANG_LANGUAGE_SCHEME\": \"scheme\",\n",
    "    \"TGLANG_LANGUAGE_SHELL\": \"shell\",\n",
    "    \"TGLANG_LANGUAGE_SMALLTALK\": \"smalltalk\",\n",
    "    \"TGLANG_LANGUAGE_SOLIDITY\": \"solidity\",\n",
    "    \"TGLANG_LANGUAGE_SQL\": \"sql\",\n",
    "    \"TGLANG_LANGUAGE_SWIFT\": \"swift\",\n",
    "    \"TGLANG_LANGUAGE_TCL\": \"tcl\",\n",
    "    \"TGLANG_LANGUAGE_TEXTILE\": \"textile\",\n",
    "    \"TGLANG_LANGUAGE_TL\": \"thrift\",\n",
    "    \"TGLANG_LANGUAGE_TYPESCRIPT\": \"typescript\",\n",
    "    \"TGLANG_LANGUAGE_UNREALSCRIPT\": \"unrealscript\",\n",
    "    \"TGLANG_LANGUAGE_VALA\": \"vala\",\n",
    "    \"TGLANG_LANGUAGE_VBSCRIPT\": \"TGLANG_LANGUAGE_VBSCRIPT\",\n",
    "    \"TGLANG_LANGUAGE_VERILOG\": \"verilog\",\n",
    "    \"TGLANG_LANGUAGE_VISUAL_BASIC\": \"visual-basic\",\n",
    "    \"TGLANG_LANGUAGE_WOLFRAM\": \"mathematica\",\n",
    "    \"TGLANG_LANGUAGE_XML\": \"xml\",\n",
    "    \"TGLANG_LANGUAGE_YAML\": \"yaml\",\n",
    "}\n",
    "languages = list(language_mapping.values())\n",
    "num_languages = len(languages)\n",
    "print(num_languages)\n"
   ]
  },
  {
   "cell_type": "code",
   "execution_count": 2,
   "metadata": {},
   "outputs": [],
   "source": [
    "languages_to_extract = [\n",
    "\t\"TGLANG_LANGUAGE_OTHER\",\n",
    "    \"TGLANG_LANGUAGE_C\",\n",
    "    \"TGLANG_LANGUAGE_CPLUSPLUS\",\n",
    "    \"TGLANG_LANGUAGE_CSHARP\",\n",
    "    \"TGLANG_LANGUAGE_CSS\",\n",
    "    \"TGLANG_LANGUAGE_DART\",\n",
    "    \"TGLANG_LANGUAGE_DOCKER\",\n",
    "    \"TGLANG_LANGUAGE_FUNC\",\n",
    "    \"TGLANG_LANGUAGE_GO\",\n",
    "    \"TGLANG_LANGUAGE_HTML\",\n",
    "    \"TGLANG_LANGUAGE_JAVA\",\n",
    "    \"TGLANG_LANGUAGE_JAVASCRIPT\",\n",
    "    \"TGLANG_LANGUAGE_JSON\",\n",
    "    \"TGLANG_LANGUAGE_KOTLIN\",\n",
    "    \"TGLANG_LANGUAGE_LUA\",\n",
    "    \"TGLANG_LANGUAGE_NGINX\",\n",
    "    \"TGLANG_LANGUAGE_OBJECTIVE_C\",\n",
    "    \"TGLANG_LANGUAGE_PHP\",\n",
    "    \"TGLANG_LANGUAGE_POWERSHELL\",\n",
    "    \"TGLANG_LANGUAGE_PYTHON\",\n",
    "    \"TGLANG_LANGUAGE_RUBY\",\n",
    "    \"TGLANG_LANGUAGE_RUST\",\n",
    "    \"TGLANG_LANGUAGE_SHELL\",\n",
    "    \"TGLANG_LANGUAGE_SOLIDITY\",\n",
    "    \"TGLANG_LANGUAGE_SQL\",\n",
    "    \"TGLANG_LANGUAGE_SWIFT\",\n",
    "    \"TGLANG_LANGUAGE_TL\",\n",
    "    \"TGLANG_LANGUAGE_TYPESCRIPT\",\n",
    "    \"TGLANG_LANGUAGE_XML\",\n",
    "]"
   ]
  },
  {
   "cell_type": "code",
   "execution_count": 3,
   "metadata": {},
   "outputs": [],
   "source": [
    "new_language_mapping = {key: language_mapping[key] for key in languages_to_extract if key in language_mapping}\n",
    "\n",
    "not_existed_indexes = []\n",
    "\n",
    "new_language_mapping_list = list(new_language_mapping.keys())\n",
    "\n",
    "for i, el in enumerate(language_mapping.keys()):\n",
    "\tif not el in new_language_mapping_list:\n",
    "\t\tnot_existed_indexes.append(i)\n",
    "not_existed_indexes\n",
    "num_languages_new = len(languages_to_extract)"
   ]
  },
  {
   "cell_type": "code",
   "execution_count": 4,
   "metadata": {},
   "outputs": [
    {
     "name": "stdout",
     "output_type": "stream",
     "text": [
      "['other', 'c', 'c++', 'c-sharp', 'css', 'dart', 'dockerfile', 'FUNC', 'go', 'html', 'java', 'javascript', 'TGLANG_LANGUAGE_JSON', 'kotlin', 'lua', 'nginx', 'TGLANG_LANGUAGE_OBJECTIVE_C', 'php', 'powershell', 'python', 'ruby', 'rust', 'shell', 'solidity', 'sql', 'swift', 'thrift', 'typescript', 'xml']\n",
      "29\n"
     ]
    }
   ],
   "source": [
    "# Create the new_lang_list using a list comprehension\n",
    "new_lang_list = [language_mapping[lang_key] for lang_key in languages_to_extract]\n",
    "\n",
    "# Print the resulting list\n",
    "print(new_lang_list)\n",
    "num_languages = len(new_lang_list)\n",
    "print(num_languages)"
   ]
  },
  {
   "cell_type": "code",
   "execution_count": 5,
   "metadata": {},
   "outputs": [],
   "source": [
    "import time\n",
    "# Контекстный менеджер для измерения времени операций\n",
    "# Операция обертывается менеджером с помощью оператора with\n",
    "class timex:\n",
    "\tdef __enter__(self):\n",
    "\t\t# Фиксация времени старта процесса\n",
    "\t\tself.t = time.time()\n",
    "\t\treturn self\n",
    "\n",
    "\tdef __exit__(self, type, value, traceback):\n",
    "\t\t# Вывод времени работы\n",
    "\t\tprint('Время обработки: {:.4f} с'.format(time.time() - self.t))"
   ]
  },
  {
   "cell_type": "code",
   "execution_count": 6,
   "metadata": {},
   "outputs": [],
   "source": [
    "from transformers import AutoTokenizer, AutoModel\n",
    "\n",
    "tokenizer = AutoTokenizer.from_pretrained(\"gpt2\")"
   ]
  },
  {
   "cell_type": "code",
   "execution_count": 7,
   "metadata": {},
   "outputs": [
    {
     "data": {
      "text/plain": [
       "'<pad>'"
      ]
     },
     "execution_count": 7,
     "metadata": {},
     "output_type": "execute_result"
    }
   ],
   "source": [
    "SPECIAL_TOKENS = {'pad_token':'<pad>'}\n",
    "tokenizer.add_special_tokens(SPECIAL_TOKENS)\n",
    "tokenizer.pad_token"
   ]
  },
  {
   "cell_type": "markdown",
   "metadata": {},
   "source": []
  },
  {
   "cell_type": "code",
   "execution_count": 8,
   "metadata": {},
   "outputs": [],
   "source": [
    "import torch\n",
    "device = 'mps'\n",
    "batch_size = 16"
   ]
  },
  {
   "cell_type": "code",
   "execution_count": 9,
   "metadata": {},
   "outputs": [],
   "source": [
    "import concurrent.futures\n",
    "import random\n",
    "import os\n",
    "\n",
    "import numpy as np\n",
    "\n",
    "input_dir = \"./raw_data_v2\"  # Change to your actual directory\n",
    "\n",
    "def to_categorical(y, num_classes, dtype):\n",
    "\t\"\"\" 1-hot encodes a tensor \"\"\"\n",
    "\treturn np.eye(num_classes, dtype=dtype)[y]"
   ]
  },
  {
   "cell_type": "code",
   "execution_count": 10,
   "metadata": {},
   "outputs": [],
   "source": [
    "# Function to get and accumulate 'train' batches from the queue\n",
    "def accumulate_batches(num_batches_to_accumulate, queue):\n",
    "\taccumulated_data = []\n",
    "\taccumulated_label = []\n",
    "\taccumulated_label_indexes = []\n",
    "\n",
    "\tfor _ in range(num_batches_to_accumulate):\n",
    "\t\tbatch = queue.get()\n",
    "\t\tif batch is None:\n",
    "\t\t\tbreak  # Break if no more batches are available\n",
    "\t\tbatch_data, batch_label, batch_label_indexes = batch\n",
    "\t\taccumulated_data.append(batch_data)\n",
    "\t\taccumulated_label.append(batch_label)\n",
    "\t\taccumulated_label_indexes.append(batch_label_indexes)\n",
    "\n",
    "\t# Concatenate the accumulated batches\n",
    "\tcombined_data = torch.cat(accumulated_data)\n",
    "\tcombined_label = torch.cat(accumulated_label)\n",
    "\tcombined_label_indexes = torch.cat(accumulated_label_indexes)\n",
    "\n",
    "\treturn combined_data, combined_label, combined_label_indexes"
   ]
  },
  {
   "cell_type": "markdown",
   "metadata": {},
   "source": [
    "model 1-4"
   ]
  },
  {
   "cell_type": "code",
   "execution_count": 11,
   "metadata": {},
   "outputs": [],
   "source": [
    "from torch import nn\n",
    "from torch.nn import functional as F\n",
    "\n",
    "num_cpu_cores = 10  # Change this according to your server's specs\n",
    "torch.set_num_threads(num_cpu_cores)\n",
    "# embedding = model.get_input_embeddings()"
   ]
  },
  {
   "cell_type": "markdown",
   "metadata": {},
   "source": [
    "Get queue from dataset from ml2023-r1-dataset and ml2023-d1-dataset"
   ]
  },
  {
   "cell_type": "code",
   "execution_count": 14,
   "metadata": {},
   "outputs": [
    {
     "name": "stdout",
     "output_type": "stream",
     "text": [
      "batch_files: 0/464\n",
      "batch_files: 0/1685\n"
     ]
    }
   ],
   "source": [
    "# datasetv3 load to queue\n",
    "import pickle\n",
    "import threading\n",
    "import queue\n",
    "import os\n",
    "from itertools import cycle\n",
    "\n",
    "import random\n",
    "\n",
    "def extract_batch_index(filename):\n",
    "\ttry:\n",
    "\t\t# Assuming the batch file name format is \"batch_XXXX.pkl\"\n",
    "\t\treturn int(filename.split('_')[1].split('.')[0])\n",
    "\texcept (ValueError, IndexError):\n",
    "\t\treturn None\n",
    "\n",
    "def load_and_put_into_queue_add1(queue, type_q):\n",
    "\tif(type_q == 'test'):\n",
    "\t\tbatches_folder = \"./dataset_v4_validate2\"\n",
    "\telse:\n",
    "\t\tbatches_folder = \"./dataset_v4_train2\"\n",
    "\twhile True:\n",
    "\t\ttry:\n",
    "\t\t\tbatch_files = os.listdir(batches_folder)\n",
    "\t\t\tbatch_files = sorted(batch_files)\n",
    "\t\t\ti = 0 \n",
    "\t\t\tif(i%1000 == 0):\n",
    "\t\t\t\tprint(f\"batch_files: {i}/{len(batch_files)}\")\n",
    "\t\t\t\ttrain_q_v3_state = f\"batch_files: {i}/{len(batch_files)}\"\n",
    "\t\t\tfor batch_file in batch_files: # cycle(sorted(os.listdir(batches_folder)))\n",
    "\t\t\t\tbatch_file_path = os.path.join(batches_folder, batch_file)\n",
    "\n",
    "\t\t\t\tif batch_file.endswith(\".pkl\"):\n",
    "\t\t\t\t\tbatch_index = extract_batch_index(batch_file)\n",
    "\t\t\t\t\t# print(f\"index {batch_index} {batch_file}\")\n",
    "\t\t\t\t\t# print(12, batch_file_path)\t\n",
    "\t\t\t\t\twith open(batch_file_path, \"rb\") as f:\n",
    "\t\t\t\t\t\tbatch_data, batch_label, batch_label_indexes = pickle.load(f)\n",
    "\n",
    "\t\t\t\t\t\n",
    "\t\t\t\t\tbatch_data_list = batch_data.tolist()\n",
    "\t\t\t\t\tbatch_label_list = batch_label.tolist()\n",
    "\t\t\t\t\tbatch_label_indexes_list = batch_label_indexes.tolist()\n",
    "\t\t\t\t\t# print(batch_data.shape, filtered_batch_label_tensor.shape, filtered_batch_label_indexes_tensor.shape)\n",
    "\t\t\t\t\t\n",
    "\t\t\t\t\t# Set other to all another\n",
    "\t\t\t\t\tindexes_to_excluse = [idx for idx, value in enumerate(batch_label_indexes_list) if value == -1]\n",
    "\n",
    "\t\t\t\t\tnew_batch_data_list = [labels for idx, labels in enumerate(batch_data_list) if idx not in indexes_to_excluse]\n",
    "\t\t\t\t\tnew_batch_label_list = [labels for idx, labels in enumerate(batch_label_list) if idx not in indexes_to_excluse]\n",
    "\t\t\t\t\tnew_batch_label_indexes_list = [labels for idx, labels in enumerate(batch_label_indexes_list) if idx not in indexes_to_excluse]\n",
    "\n",
    "\t\t\t\t\tfiltered_batch_data_tensor = torch.tensor(new_batch_data_list).to(device)\n",
    "\t\t\t\t\tfiltered_batch_label_tensor = torch.tensor(new_batch_label_list).to(device)\n",
    "\t\t\t\t\tfiltered_batch_label_indexes_tensor = torch.tensor(new_batch_label_indexes_list).to(device)\n",
    "\n",
    "\t\t\t\t\tfiltered_batch = (filtered_batch_data_tensor, filtered_batch_label_tensor, filtered_batch_label_indexes_tensor)\n",
    "\t\t\t\t\t\n",
    "\t\t\t\t\tbatch = filtered_batch\n",
    "\t\t\t\t\t# batch = (batch_data.to(device), batch_label.to(device), batch_label_indexes.to(device))\n",
    "\t\t\t\t\ti += 1\n",
    "\t\t\t\t\tqueue.put(batch)\n",
    "\t\t\tprint(\"EPOCH ENDED\")\n",
    "\t\texcept EOFError:\n",
    "\t\t\tbreak  # Break when no more files are available\n",
    "\n",
    "\n",
    "# Create a queue\n",
    "validate_files_batch_queue_add1 = queue.Queue(maxsize=10)\n",
    "train_files_batch_queue_add1 = queue.Queue(maxsize=10)\n",
    "\n",
    "# Create a thread to load and put data into the queue\n",
    "load_thread_validate_add1 = threading.Thread(target=load_and_put_into_queue_add1, args=(validate_files_batch_queue_add1, 'test',))\n",
    "load_thread_validate_add1.start()\n",
    "load_thread_train_add1 = threading.Thread(target=load_and_put_into_queue_add1, args=(train_files_batch_queue_add1, 'train',))\n",
    "load_thread_train_add1.start()"
   ]
  },
  {
   "cell_type": "code",
   "execution_count": 15,
   "metadata": {},
   "outputs": [
    {
     "name": "stdout",
     "output_type": "stream",
     "text": [
      "torch.Size([1, 256]) torch.Size([1, 29]) torch.Size([1])\n"
     ]
    }
   ],
   "source": [
    "a,b,c = validate_files_batch_queue_add1.get()\n",
    "print(a.shape,b.shape,c.shape)"
   ]
  },
  {
   "cell_type": "code",
   "execution_count": null,
   "metadata": {},
   "outputs": [
    {
     "name": "stdout",
     "output_type": "stream",
     "text": [
      "batch_files: 0/2batch_files: 0/4\n",
      "\n"
     ]
    },
    {
     "name": "stderr",
     "output_type": "stream",
     "text": [
      "/var/folders/9z/q_wbkn9n3rx2yphg29mvstph0000gn/T/ipykernel_46311/416970718.py:118: UserWarning: Creating a tensor from a list of numpy.ndarrays is extremely slow. Please consider converting the list to a single numpy.ndarray with numpy.array() before converting to a tensor. (Triggered internally at /Users/runner/work/pytorch/pytorch/pytorch/torch/csrc/utils/tensor_new.cpp:264.)\n",
      "  filtered_batch_label_tensor = torch.tensor(new_batch_label_list).to(device)\n"
     ]
    },
    {
     "name": "stdout",
     "output_type": "stream",
     "text": [
      "EPOCH ENDED\n",
      "batch_files: 0/2\n",
      "EPOCH ENDED\n",
      "batch_files: 0/4\n",
      "EPOCH ENDED\n",
      "batch_files: 0/2\n",
      "EPOCH ENDED\n",
      "batch_files: 0/2\n",
      "EPOCH ENDED\n",
      "batch_files: 0/4\n",
      "EPOCH ENDED\n",
      "batch_files: 0/2\n",
      "EPOCH ENDED\n",
      "batch_files: 0/2\n"
     ]
    }
   ],
   "source": [
    "# datasetv3 load to queue\n",
    "import pickle\n",
    "import threading\n",
    "import queue\n",
    "import os\n",
    "from itertools import cycle\n",
    "\n",
    "import random\n",
    "\n",
    "def extract_batch_index(filename):\n",
    "\ttry:\n",
    "\t\t# Assuming the batch file name format is \"batch_XXXX.pkl\"\n",
    "\t\treturn int(filename.split('_')[1].split('.')[0])\n",
    "\texcept (ValueError, IndexError):\n",
    "\t\treturn None\n",
    "\n",
    "def load_and_put_into_queue_d3(queue, type_q):\n",
    "\tif(type_q == 'test'):\n",
    "\t\tbatches_folder = \"./dataset_v4o_validate\"\n",
    "\telse:\n",
    "\t\tbatches_folder = \"./dataset_v4o_train\"\n",
    "\twhile True:\n",
    "\t\ttry:\n",
    "\t\t\tbatch_files = os.listdir(batches_folder)\n",
    "\t\t\tbatch_files = sorted(batch_files)\n",
    "\t\t\ti = 0 \n",
    "\t\t\tif(i%1000 == 0):\n",
    "\t\t\t\tprint(f\"batch_files: {i}/{len(batch_files)}\")\n",
    "\t\t\t\ttrain_q_v3_state = f\"batch_files: {i}/{len(batch_files)}\"\n",
    "\t\t\tfor batch_file in batch_files: # cycle(sorted(os.listdir(batches_folder)))\n",
    "\t\t\t\tbatch_file_path = os.path.join(batches_folder, batch_file)\n",
    "\n",
    "\t\t\t\tif batch_file.endswith(\".pkl\"):\n",
    "\t\t\t\t\tbatch_index = extract_batch_index(batch_file)\n",
    "\t\t\t\t\t# print(f\"index {batch_index} {batch_file}\")\n",
    "\t\t\t\t\t# print(12, batch_file_path)\t\n",
    "\t\t\t\t\twith open(batch_file_path, \"rb\") as f:\n",
    "\t\t\t\t\t\tbatch_data, batch_label, batch_label_indexes = pickle.load(f)\n",
    "\n",
    "\n",
    "\t\t\t\t\t# Filtering to exclude another langs\n",
    "\t\t\t\t\t# def filter_inner_elements(data, not_existed_indexes):\n",
    "\t\t\t\t\t# \t# filtered_data = []\n",
    "\t\t\t\t\t# \t# for idx, element in enumerate(data):\n",
    "\t\t\t\t\t# \t# \tif idx not in not_existed_indexes:\n",
    "\t\t\t\t\t# \t# \t\tprint(idx)\n",
    "\t\t\t\t\t# \t# \t\tfiltered_data.append(element)\n",
    "\t\t\t\t\t# \t# return filtered_data\n",
    "\t\t\t\t\t# \treturn [element for idx, element in enumerate(data) if idx not in not_existed_indexes]\n",
    "\n",
    "\t\t\t\t\t# # Convert the tensors to lists for filtering\n",
    "\t\t\t\t\t# batch_data_list = batch_data.tolist()\n",
    "\t\t\t\t\t# batch_label_list = batch_label.tolist()\n",
    "\t\t\t\t\t# batch_label_indexes_list = batch_label_indexes.tolist()\n",
    "\n",
    "\t\t\t\t\t# # Filter out elements with indexes in not_existed_indexes\n",
    "\t\t\t\t\t# filtered_batch_data = [data for idx, data in enumerate(batch_data_list) if idx not in not_existed_indexes]\n",
    "\t\t\t\t\t# # filtered_batch_label = [label for idx, label in enumerate(batch_label_list) if idx not in not_existed_indexes]\n",
    "\t\t\t\t\t# filtered_batch_label = [filter_inner_elements(label, not_existed_indexes) for idx, label in enumerate(batch_label_list) if idx not in not_existed_indexes]\n",
    "\t\t\t\t\t# filtered_batch_label_indexes = [label_index for idx, label_index in enumerate(batch_label_indexes_list) if idx not in not_existed_indexes]\n",
    "\n",
    "\t\t\t\t\t# # for label_indexes in filtered_batch_label_indexes:\n",
    "\t\t\t\t\t# # \tprint(label_indexes)\n",
    "\t\t\t\t\t# # print(filtered_batch_label_indexes)\n",
    "\t\t\t\t\t# for idx, label_index in enumerate(filtered_batch_label_indexes):\n",
    "\t\t\t\t\t# \t# lang_name = language_mapping.keys()[label_index]\n",
    "\t\t\t\t\t# \t# index = languages_to_extract.keys().index(lang_name)\n",
    "\t\t\t\t\t# \tfiltered_batch_label_indexes[idx] = idx\n",
    "\n",
    "\t\t\t\t\t# # Convert the lists back to tensors\n",
    "\t\t\t\t\t# filtered_batch_data_tensor = torch.tensor(filtered_batch_data).to(device)\n",
    "\t\t\t\t\t# filtered_batch_label_tensor = torch.tensor(filtered_batch_label).to(device)\n",
    "\t\t\t\t\t# filtered_batch_label_indexes_tensor = torch.tensor(filtered_batch_label_indexes).to(device)\n",
    "\n",
    "\t\t\t\t\t# filtered_batch = (filtered_batch_data_tensor, filtered_batch_label_tensor, filtered_batch_label_indexes_tensor)\n",
    "\n",
    "\n",
    "\t\t\t\t\t# Modify another to other\n",
    "\t\t\t\t\tbatch_data_list = batch_data.tolist()\n",
    "\t\t\t\t\tbatch_label_list = batch_label.tolist()\n",
    "\t\t\t\t\tbatch_label_indexes_list = batch_label_indexes.tolist()\n",
    "\t\t\t\t\t# print(batch_data.shape, filtered_batch_label_tensor.shape, filtered_batch_label_indexes_tensor.shape)\n",
    "\t\t\t\t\t\n",
    "\t\t\t\t\t# Set other to all another\n",
    "\t\t\t\t\tother_labels = to_categorical(0, num_languages_new, 'float32')\n",
    "\t\t\t\t\tothers_indexes = [idx for idx, label in enumerate(batch_label_list) if idx in not_existed_indexes]\n",
    "\n",
    "\t\t\t\t\tnew_index = 0\n",
    "\t\t\t\t\tfor idx, labels in enumerate(batch_label_list):\n",
    "\t\t\t\t\t\t# print(idx)\n",
    "\t\t\t\t\t\tif idx in not_existed_indexes:\n",
    "\t\t\t\t\t\t\t# pass\n",
    "\t\t\t\t\t\t\tbatch_label_list[idx] = other_labels # to_categorical(0, num_languages_new, 'float') # 'uint8'\n",
    "\t\t\t\t\t\telse:\n",
    "\t\t\t\t\t\t\tbatch_label_list[idx] = to_categorical(new_index, num_languages_new, 'float32')\n",
    "\t\t\t\t\t\t\tnew_index += 1\n",
    "\t\t\t\t\tnew_index = 0\n",
    "\t\t\t\t\tfor idx, label_index in enumerate(batch_label_indexes_list):\n",
    "\t\t\t\t\t\tif idx in not_existed_indexes:\n",
    "\t\t\t\t\t\t\tbatch_label_indexes_list[idx] = 0\n",
    "\t\t\t\t\t\telse:\n",
    "\t\t\t\t\t\t\tbatch_label_indexes_list[idx] = new_index\n",
    "\t\t\t\t\t\t\tnew_index += 1\n",
    "\n",
    "\t\t\t\t\tothers_indexes = [idx for idx, label in enumerate(batch_label_indexes_list) if label == 0]\n",
    "\t\t\t\t\trandom_to_other = random.random()\n",
    "\n",
    "\t\t\t\t\t# Set random_index based on the random number\n",
    "\t\t\t\t\tif random_to_other < 0.5:\n",
    "\t\t\t\t\t\trandom_index = 0\n",
    "\t\t\t\t\telse:\n",
    "\t\t\t\t\t\trandom_index = random.choice(others_indexes)\n",
    "\t\t\t\t\tnew_batch_data_list = [labels for idx, labels in enumerate(batch_data_list) if idx not in not_existed_indexes and idx != 0 or idx == random_index]\n",
    "\t\t\t\t\tnew_batch_label_list = [labels for idx, labels in enumerate(batch_label_list) if idx not in not_existed_indexes and idx != 0 or idx == random_index]\n",
    "\t\t\t\t\tnew_batch_label_indexes_list = [labels for idx, labels in enumerate(batch_label_indexes_list) if idx not in not_existed_indexes and idx != 0 or idx == random_index]\n",
    "\n",
    "\t\t\t\t\tfiltered_batch_data_tensor = torch.tensor(new_batch_data_list).to(device)\n",
    "\t\t\t\t\tfiltered_batch_label_tensor = torch.tensor(new_batch_label_list).to(device)\n",
    "\t\t\t\t\tfiltered_batch_label_indexes_tensor = torch.tensor(new_batch_label_indexes_list).to(device)\n",
    "\n",
    "\t\t\t\t\tfiltered_batch = (filtered_batch_data_tensor, filtered_batch_label_tensor, filtered_batch_label_indexes_tensor)\n",
    "\t\t\t\t\t\n",
    "\t\t\t\t\t\n",
    "\t\t\t\t\tbatch = filtered_batch # (batch_data.to(device), batch_label.to(device), batch_label_indexes.to(device))\n",
    "\t\t\t\t\ti += 1\n",
    "\t\t\t\t\tqueue.put(batch)\n",
    "\t\t\tprint(\"EPOCH ENDED\")\n",
    "\t\texcept EOFError:\n",
    "\t\t\tbreak  # Break when no more files are available\n",
    "\n",
    "\n",
    "# Create a queue\n",
    "validate_files_batch_queue_d3 = queue.Queue(maxsize=10)\n",
    "train_files_batch_queue_d3 = queue.Queue(maxsize=10)\n",
    "\n",
    "# Create a thread to load and put data into the queue\n",
    "load_thread_validate_d3 = threading.Thread(target=load_and_put_into_queue_d3, args=(validate_files_batch_queue_d3, 'test',))\n",
    "load_thread_validate_d3.start()\n",
    "load_thread_train_d3 = threading.Thread(target=load_and_put_into_queue_d3, args=(train_files_batch_queue_d3, 'train',))\n",
    "load_thread_train_d3.start()"
   ]
  },
  {
   "cell_type": "markdown",
   "metadata": {},
   "source": [
    "Batches accumulate functons"
   ]
  },
  {
   "cell_type": "code",
   "execution_count": 17,
   "metadata": {},
   "outputs": [],
   "source": [
    "# Function to get and accumulate 'train' batches from the queue\n",
    "def filter_batch_new_only(batch_data, batch_label, batch_label_indexes):\n",
    "\n",
    "\t# Filtering to exclude another langs\n",
    "\t# def filter_inner_elements(data, not_existed_indexes):\n",
    "\t# \treturn [element for idx, element in enumerate(data) if idx not in not_existed_indexes]\n",
    "\n",
    "\t# Convert the tensors to lists for filtering\n",
    "\tbatch_data_list = batch_data.tolist()\n",
    "\tbatch_label_list = batch_label.tolist()\n",
    "\tbatch_label_indexes_list = batch_label_indexes.tolist()\n",
    "\n",
    "\tothers_indexes = [idx for idx, label in enumerate(batch_label_list) if label[0] == 1]\n",
    "\t# print(others_indexes)\n",
    "\tdelete_indexes = others_indexes[1:]\n",
    "\t# print(delete_indexes)\t\n",
    "\n",
    "\t# Filter out elements with indexes in not_existed_indexes\n",
    "\tfiltered_batch_data = [data for idx, data in enumerate(batch_data_list) if idx not in delete_indexes]\n",
    "\tfiltered_batch_label = [data for idx, data in enumerate(batch_label_list) if idx not in delete_indexes]\n",
    "\tfiltered_batch_label_indexes = [data for idx, data in enumerate(batch_label_indexes_list) if idx not in delete_indexes]\n",
    "\n",
    "\t# Convert the lists back to tensors\n",
    "\tfiltered_batch_data_tensor = torch.tensor(filtered_batch_data).to(device)\n",
    "\tfiltered_batch_label_tensor = torch.tensor(filtered_batch_label).to(device)\n",
    "\tfiltered_batch_label_indexes_tensor = torch.tensor(filtered_batch_label_indexes).to(device)\n",
    "\n",
    "\treturn filtered_batch_data_tensor, filtered_batch_label_tensor, filtered_batch_label_indexes_tensor\n",
    "\t\n",
    "# Function to get and accumulate 'train' batches from the queue\n",
    "def accumulate_batches_filtered(num_batches_to_accumulate, queue):\n",
    "\taccumulated_data = []\n",
    "\taccumulated_label = []\n",
    "\taccumulated_label_indexes = []\n",
    "\n",
    "\tfor _ in range(num_batches_to_accumulate):\n",
    "\t\ta,b,c = queue.get()\n",
    "\t\tif batch is None:\n",
    "\t\t\tbreak  # Break if no more batches are available\n",
    "\t\tbatch_data, batch_label, batch_label_indexes = filter_batch_new_only(a,b,c)\n",
    "\t\taccumulated_data.append(batch_data)\n",
    "\t\taccumulated_label.append(batch_label)\n",
    "\t\taccumulated_label_indexes.append(batch_label_indexes)\n",
    "\n",
    "\t# Concatenate the accumulated batches\n",
    "\tcombined_data = torch.cat(accumulated_data)\n",
    "\tcombined_label = torch.cat(accumulated_label)\n",
    "\tcombined_label_indexes = torch.cat(accumulated_label_indexes)\n",
    "\n",
    "\treturn combined_data, combined_label, combined_label_indexes\n",
    "\n",
    "def del_category(batch, category_index):\n",
    "\tbatch_data, batch_label, batch_label_indexes = batch\n",
    "\tbatch_data_list = batch_data.tolist()\n",
    "\tbatch_label_list = batch_label.tolist()\n",
    "\tbatch_label_indexes_list = batch_label_indexes.tolist()\n",
    "\n",
    "\tindexes_to_excluse = [idx for idx, value in enumerate(batch_label_indexes_list) if value in category_index]\n",
    "\n",
    "\tnew_batch_data_list = [labels for idx, labels in enumerate(batch_data_list) if idx not in indexes_to_excluse]\n",
    "\tnew_batch_label_list = [labels for idx, labels in enumerate(batch_label_list) if idx not in indexes_to_excluse]\n",
    "\tnew_batch_label_indexes_list = [labels for idx, labels in enumerate(batch_label_indexes_list) if idx not in indexes_to_excluse]\n",
    "\n",
    "\tfiltered_batch_data_tensor = torch.tensor(new_batch_data_list).to(device)\n",
    "\tfiltered_batch_label_tensor = torch.tensor(new_batch_label_list).to(device)\n",
    "\tfiltered_batch_label_indexes_tensor = torch.tensor(new_batch_label_indexes_list).to(device)\n",
    "\n",
    "\treturn (filtered_batch_data_tensor, filtered_batch_label_tensor, filtered_batch_label_indexes_tensor)\n",
    "\n",
    "# Function to get and accumulate 'train' batches from the queue\n",
    "def accumulate_and_combine_batches(num_batches_to_accumulate, queue, queue2):\n",
    "\taccumulated_data = []\n",
    "\taccumulated_label = []\n",
    "\taccumulated_label_indexes = []\n",
    "\n",
    "\tfor _ in range(num_batches_to_accumulate):\n",
    "\t\tbatch = queue.get()\n",
    "\t\t\n",
    "\t\t# random_to_ts = random.random()\n",
    "\t\t# if random_to_ts < 0.5:\n",
    "\t\t# indexes_to_del = [*range(num_languages_new)]\n",
    "\t\t# indexes_to_del.remove(27)\n",
    "\n",
    "\t\t# batch = del_category(batch, indexes_to_del)\n",
    "\n",
    "\t\t# else:\n",
    "\t\trandom_to_other = random.random()\n",
    "\t\tif random_to_other < 0.5:\n",
    "\t\t\tbatch2 = queue2.get()\n",
    "\t\t\tbatch = del_category(batch, [0])\n",
    "\n",
    "\t\t\tbatch2_data, batch2_label, batch2_label_indexes = batch2\n",
    "\t\t\taccumulated_data.append(batch2_data)\n",
    "\t\t\taccumulated_label.append(batch2_label)\n",
    "\t\t\taccumulated_label_indexes.append(batch2_label_indexes)\n",
    "\n",
    "\t\tbatch_data, batch_label, batch_label_indexes = batch\n",
    "\t\taccumulated_data.append(batch_data)\n",
    "\t\taccumulated_label.append(batch_label)\n",
    "\t\taccumulated_label_indexes.append(batch_label_indexes)\n",
    "\n",
    "\t# Concatenate the accumulated batches\n",
    "\tcombined_data = torch.cat(accumulated_data)\n",
    "\tcombined_label = torch.cat(accumulated_label)\n",
    "\tcombined_label_indexes = torch.cat(accumulated_label_indexes)\n",
    "\n",
    "\treturn combined_data, combined_label, combined_label_indexes"
   ]
  },
  {
   "cell_type": "code",
   "execution_count": 19,
   "metadata": {},
   "outputs": [
    {
     "name": "stdout",
     "output_type": "stream",
     "text": [
      "EPOCH ENDED\n",
      "batch_files: 0/4\n",
      "torch.Size([116, 256]) tensor([[  140,   111, 18849,  ..., 50257, 50257, 50257],\n",
      "        [  220,   220,   220,  ..., 50257, 50257, 50257],\n",
      "        [43085,    11,   290,  ..., 50257, 50257, 50257],\n",
      "        ...,\n",
      "        [  220,   352,    25,  ..., 50257, 50257, 50257],\n",
      "        [  220,   220,   220,  ..., 50257, 50257, 50257],\n",
      "        [23680,    62, 34720,  ..., 50257, 50257, 50257]], device='mps:0')\n"
     ]
    }
   ],
   "source": [
    "for el in accumulate_and_combine_batches(4, validate_files_batch_queue_d3, validate_files_batch_queue_add1):\n",
    "\tprint(el.shape, el)\n",
    "\tbreak"
   ]
  },
  {
   "cell_type": "markdown",
   "metadata": {},
   "source": [
    "VERSION 5"
   ]
  },
  {
   "cell_type": "code",
   "execution_count": 20,
   "metadata": {},
   "outputs": [
    {
     "name": "stdout",
     "output_type": "stream",
     "text": [
      "0.485045 M parameters\n"
     ]
    }
   ],
   "source": [
    "# VERSION 5 model\n",
    "embed_len = 8\n",
    "vocab = tokenizer.vocab_size # len(chars)\n",
    "hidden_dim = 80\n",
    "n_layers = 2\n",
    "\n",
    "class LSTMClassifier(nn.Module):\n",
    "\tdef __init__(self):\n",
    "\t\tsuper(LSTMClassifier, self).__init__()\n",
    "\t\tself.embedding_layer = nn.Sequential(\n",
    "\t\t\tnn.Embedding(num_embeddings=vocab, embedding_dim=embed_len),\n",
    "\t\t\tnn.Dropout(0.1)  # Add dropout to the embedding layer\n",
    "\t\t)\n",
    "\t\tself.lstm = nn.LSTM(input_size=embed_len, hidden_size=hidden_dim, num_layers=n_layers, batch_first=True)\n",
    "\t\tself.linear = nn.Linear(hidden_dim, num_languages_new)\n",
    "\t\tself.dropout = nn.Dropout(0.001)  # Add dropout layer after LSTM\n",
    "\n",
    "\tdef forward(self, X_batch):\n",
    "\t\tembeddings = self.embedding_layer(X_batch)\n",
    "\t\thidden, carry = torch.randn(n_layers, len(X_batch), hidden_dim).to(device), torch.randn(n_layers, len(X_batch), hidden_dim).to(device)\n",
    "\t\toutput, (hidden, carry) = self.lstm(embeddings, (hidden, carry))\n",
    "\t\toutput = self.linear(output[:, -1])\n",
    "\t\toutput = F.softmax(output, dim=1)  # Apply softmax activation\n",
    "\t\treturn output\n",
    "\n",
    "lstm_classifier = LSTMClassifier().to(device)\n",
    "print(sum(p.numel() for p in lstm_classifier.parameters())/1e6, 'M parameters')\n"
   ]
  },
  {
   "cell_type": "code",
   "execution_count": 22,
   "metadata": {},
   "outputs": [],
   "source": [
    "# lstm_classifier.load_state_dict(torch.load(\"./model.bin\"))"
   ]
  },
  {
   "cell_type": "code",
   "execution_count": 23,
   "metadata": {},
   "outputs": [],
   "source": [
    "from torch.optim import Adam\n",
    "\n",
    "epochs = 50000 # Appologise, this is not epochs)))\n",
    "learning_rate = 1e-3\n",
    "\n",
    "loss_fn = nn.CrossEntropyLoss()\n",
    "optimizer = Adam(lstm_classifier.parameters(), lr=learning_rate)\n",
    "\n",
    "# # Speed test\n",
    "# batch_generator = get_batch('train', 1)\n",
    "# # Get the first batch\n",
    "# xb, yb = next(batch_generator)\n",
    "# for i in range(11):\n",
    "# \twith timex():\n",
    "# \t\tY_preds = lstm_classifier(xb.to(device)) ## Make Predictions\n",
    "\n",
    "# lstm_classifier.eval()\n",
    "\n",
    "def calculate_val_loss_and_accuracy(model, val_data, val_labels, labels_indexes, loss_fn, device):\n",
    "\tmodel.eval()  # Set the model to evaluation mode\n",
    "\twith torch.no_grad():  # Disable gradient calculation for validation\n",
    "\t\tval_data = val_data.to(device)\n",
    "\t\t# val_labels = val_labels.to(device)\n",
    "\n",
    "\t\tval_preds = model(val_data)\n",
    "\t\tval_loss = loss_fn(val_preds, val_labels)\n",
    "\t\tval_loss = val_loss.item()\n",
    "\n",
    "\t\t# print(val_preds, val_preds.shape)\n",
    "\t\t# print(val_labels, val_labels.shape)\n",
    "\n",
    "\t\t# Calculate accuracy\n",
    "\t\tval_predictions = torch.argmax(val_preds, dim=1)\n",
    "\t\t# print(val_predictions, labels_indexes)\n",
    "\t\taccuracy = (val_predictions == labels_indexes).float().mean().item()\n",
    "\n",
    "\tmodel.train()  # Set the model back to training mode\n",
    "\treturn val_loss, accuracy"
   ]
  },
  {
   "cell_type": "code",
   "execution_count": 24,
   "metadata": {},
   "outputs": [],
   "source": [
    "# Initialize empty lists to collect training and validation metrics\n",
    "train_losses = []\n",
    "val_losses = []\n",
    "val_accuracies = []"
   ]
  },
  {
   "cell_type": "code",
   "execution_count": 25,
   "metadata": {},
   "outputs": [
    {
     "name": "stdout",
     "output_type": "stream",
     "text": [
      "EPOCH ENDED\n",
      "batch_files: 0/2\n",
      "EPOCH ENDED\n",
      "batch_files: 0/2\n"
     ]
    },
    {
     "name": "stdout",
     "output_type": "stream",
     "text": [
      "Epoch 1/50000, Train Loss: 3.367295265197754\n",
      "EPOCH ENDED\n",
      "batch_files: 0/2\n",
      "EPOCH ENDED\n",
      "batch_files: 0/2\n",
      "Epoch 2/50000, Train Loss: 3.367285966873169\n",
      "EPOCH ENDED\n",
      "batch_files: 0/2\n",
      "EPOCH ENDED\n",
      "batch_files: 0/2\n",
      "Epoch 3/50000, Train Loss: 3.367274284362793\n",
      "EPOCH ENDED\n",
      "batch_files: 0/2\n",
      "EPOCH ENDED\n",
      "batch_files: 0/2\n",
      "Epoch 4/50000, Train Loss: 3.3672564029693604\n",
      "EPOCH ENDED\n",
      "batch_files: 0/2\n",
      "EPOCH ENDED\n",
      "batch_files: 0/2\n",
      "Epoch 5/50000, Train Loss: 3.367236375808716\n",
      "EPOCH ENDED\n",
      "batch_files: 0/2\n",
      "EPOCH ENDED\n",
      "batch_files: 0/2\n",
      "Epoch 6/50000, Train Loss: 3.3672127723693848\n",
      "EPOCH ENDED\n",
      "batch_files: 0/2\n",
      "EPOCH ENDED\n",
      "batch_files: 0/2\n",
      "Epoch 7/50000, Train Loss: 3.3671936988830566\n",
      "EPOCH ENDED\n",
      "batch_files: 0/2\n",
      "EPOCH ENDED\n",
      "batch_files: 0/2\n",
      "Epoch 8/50000, Train Loss: 3.3671393394470215\n",
      "EPOCH ENDED\n",
      "batch_files: 0/2\n",
      "EPOCH ENDED\n",
      "batch_files: 0/2\n",
      "Epoch 9/50000, Train Loss: 3.367074489593506\n",
      "EPOCH ENDED\n",
      "batch_files: 0/2\n",
      "EPOCH ENDED\n",
      "batch_files: 0/2\n",
      "Epoch 10/50000, Train Loss: 3.3669960498809814\n",
      "EPOCH ENDED\n",
      "batch_files: 0/2\n",
      "EPOCH ENDED\n",
      "batch_files: 0/2\n",
      "Epoch 11/50000, Train Loss: 3.366861343383789\n",
      "EPOCH ENDED\n",
      "batch_files: 0/2\n",
      "EPOCH ENDED\n",
      "batch_files: 0/2\n",
      "Epoch 12/50000, Train Loss: 3.366607189178467\n",
      "EPOCH ENDED\n",
      "batch_files: 0/2\n",
      "EPOCH ENDED\n",
      "batch_files: 0/2\n"
     ]
    },
    {
     "ename": "KeyboardInterrupt",
     "evalue": "",
     "output_type": "error",
     "traceback": [
      "\u001b[0;31m---------------------------------------------------------------------------\u001b[0m",
      "\u001b[0;31mKeyboardInterrupt\u001b[0m                         Traceback (most recent call last)",
      "\u001b[1;32m/Users/vadimmakarov/Documents/Work_home/submission/train/train.ipynb Cell 26\u001b[0m line \u001b[0;36m1\n\u001b[1;32m     <a href='vscode-notebook-cell:/Users/vadimmakarov/Documents/Work_home/submission/train/train.ipynb#X43sZmlsZQ%3D%3D?line=10'>11</a>\u001b[0m \t\u001b[39mcontinue\u001b[39;00m  \u001b[39m# Break the training loop if no more batches are available\u001b[39;00m\n\u001b[1;32m     <a href='vscode-notebook-cell:/Users/vadimmakarov/Documents/Work_home/submission/train/train.ipynb#X43sZmlsZQ%3D%3D?line=11'>12</a>\u001b[0m xb, yb, zb \u001b[39m=\u001b[39m batch\n\u001b[0;32m---> <a href='vscode-notebook-cell:/Users/vadimmakarov/Documents/Work_home/submission/train/train.ipynb#X43sZmlsZQ%3D%3D?line=13'>14</a>\u001b[0m y_preds \u001b[39m=\u001b[39m lstm_classifier(xb\u001b[39m.\u001b[39;49mto(device))\n\u001b[1;32m     <a href='vscode-notebook-cell:/Users/vadimmakarov/Documents/Work_home/submission/train/train.ipynb#X43sZmlsZQ%3D%3D?line=14'>15</a>\u001b[0m loss \u001b[39m=\u001b[39m loss_fn(y_preds, yb\u001b[39m.\u001b[39mto(device)) \u001b[39m## Calculate Loss\u001b[39;00m\n\u001b[1;32m     <a href='vscode-notebook-cell:/Users/vadimmakarov/Documents/Work_home/submission/train/train.ipynb#X43sZmlsZQ%3D%3D?line=15'>16</a>\u001b[0m \u001b[39m# print(y_preds, yb)\u001b[39;00m\n\u001b[1;32m     <a href='vscode-notebook-cell:/Users/vadimmakarov/Documents/Work_home/submission/train/train.ipynb#X43sZmlsZQ%3D%3D?line=16'>17</a>\u001b[0m \u001b[39m# print(y_preds[0][-2])\u001b[39;00m\n\u001b[1;32m     <a href='vscode-notebook-cell:/Users/vadimmakarov/Documents/Work_home/submission/train/train.ipynb#X43sZmlsZQ%3D%3D?line=17'>18</a>\u001b[0m \u001b[39m# if(y_preds[0][-2] > 0.1):\u001b[39;00m\n\u001b[1;32m     <a href='vscode-notebook-cell:/Users/vadimmakarov/Documents/Work_home/submission/train/train.ipynb#X43sZmlsZQ%3D%3D?line=18'>19</a>\u001b[0m \u001b[39m# \tbreak\u001b[39;00m\n\u001b[1;32m     <a href='vscode-notebook-cell:/Users/vadimmakarov/Documents/Work_home/submission/train/train.ipynb#X43sZmlsZQ%3D%3D?line=19'>20</a>\u001b[0m \u001b[39m# print(loss.data)\u001b[39;00m\n",
      "File \u001b[0;32m~/.pyenv/versions/3.9.1/lib/python3.9/site-packages/torch/nn/modules/module.py:1518\u001b[0m, in \u001b[0;36mModule._wrapped_call_impl\u001b[0;34m(self, *args, **kwargs)\u001b[0m\n\u001b[1;32m   1516\u001b[0m     \u001b[39mreturn\u001b[39;00m \u001b[39mself\u001b[39m\u001b[39m.\u001b[39m_compiled_call_impl(\u001b[39m*\u001b[39margs, \u001b[39m*\u001b[39m\u001b[39m*\u001b[39mkwargs)  \u001b[39m# type: ignore[misc]\u001b[39;00m\n\u001b[1;32m   1517\u001b[0m \u001b[39melse\u001b[39;00m:\n\u001b[0;32m-> 1518\u001b[0m     \u001b[39mreturn\u001b[39;00m \u001b[39mself\u001b[39;49m\u001b[39m.\u001b[39;49m_call_impl(\u001b[39m*\u001b[39;49margs, \u001b[39m*\u001b[39;49m\u001b[39m*\u001b[39;49mkwargs)\n",
      "File \u001b[0;32m~/.pyenv/versions/3.9.1/lib/python3.9/site-packages/torch/nn/modules/module.py:1527\u001b[0m, in \u001b[0;36mModule._call_impl\u001b[0;34m(self, *args, **kwargs)\u001b[0m\n\u001b[1;32m   1522\u001b[0m \u001b[39m# If we don't have any hooks, we want to skip the rest of the logic in\u001b[39;00m\n\u001b[1;32m   1523\u001b[0m \u001b[39m# this function, and just call forward.\u001b[39;00m\n\u001b[1;32m   1524\u001b[0m \u001b[39mif\u001b[39;00m \u001b[39mnot\u001b[39;00m (\u001b[39mself\u001b[39m\u001b[39m.\u001b[39m_backward_hooks \u001b[39mor\u001b[39;00m \u001b[39mself\u001b[39m\u001b[39m.\u001b[39m_backward_pre_hooks \u001b[39mor\u001b[39;00m \u001b[39mself\u001b[39m\u001b[39m.\u001b[39m_forward_hooks \u001b[39mor\u001b[39;00m \u001b[39mself\u001b[39m\u001b[39m.\u001b[39m_forward_pre_hooks\n\u001b[1;32m   1525\u001b[0m         \u001b[39mor\u001b[39;00m _global_backward_pre_hooks \u001b[39mor\u001b[39;00m _global_backward_hooks\n\u001b[1;32m   1526\u001b[0m         \u001b[39mor\u001b[39;00m _global_forward_hooks \u001b[39mor\u001b[39;00m _global_forward_pre_hooks):\n\u001b[0;32m-> 1527\u001b[0m     \u001b[39mreturn\u001b[39;00m forward_call(\u001b[39m*\u001b[39;49margs, \u001b[39m*\u001b[39;49m\u001b[39m*\u001b[39;49mkwargs)\n\u001b[1;32m   1529\u001b[0m \u001b[39mtry\u001b[39;00m:\n\u001b[1;32m   1530\u001b[0m     result \u001b[39m=\u001b[39m \u001b[39mNone\u001b[39;00m\n",
      "\u001b[1;32m/Users/vadimmakarov/Documents/Work_home/submission/train/train.ipynb Cell 26\u001b[0m line \u001b[0;36m2\n\u001b[1;32m     <a href='vscode-notebook-cell:/Users/vadimmakarov/Documents/Work_home/submission/train/train.ipynb#X43sZmlsZQ%3D%3D?line=19'>20</a>\u001b[0m hidden, carry \u001b[39m=\u001b[39m torch\u001b[39m.\u001b[39mrandn(n_layers, \u001b[39mlen\u001b[39m(X_batch), hidden_dim)\u001b[39m.\u001b[39mto(device), torch\u001b[39m.\u001b[39mrandn(n_layers, \u001b[39mlen\u001b[39m(X_batch), hidden_dim)\u001b[39m.\u001b[39mto(device)\n\u001b[1;32m     <a href='vscode-notebook-cell:/Users/vadimmakarov/Documents/Work_home/submission/train/train.ipynb#X43sZmlsZQ%3D%3D?line=20'>21</a>\u001b[0m output, (hidden, carry) \u001b[39m=\u001b[39m \u001b[39mself\u001b[39m\u001b[39m.\u001b[39mlstm(embeddings, (hidden, carry))\n\u001b[0;32m---> <a href='vscode-notebook-cell:/Users/vadimmakarov/Documents/Work_home/submission/train/train.ipynb#X43sZmlsZQ%3D%3D?line=21'>22</a>\u001b[0m output \u001b[39m=\u001b[39m \u001b[39mself\u001b[39;49m\u001b[39m.\u001b[39;49mlinear(output[:, \u001b[39m-\u001b[39;49m\u001b[39m1\u001b[39;49m])\n\u001b[1;32m     <a href='vscode-notebook-cell:/Users/vadimmakarov/Documents/Work_home/submission/train/train.ipynb#X43sZmlsZQ%3D%3D?line=22'>23</a>\u001b[0m output \u001b[39m=\u001b[39m F\u001b[39m.\u001b[39msoftmax(output, dim\u001b[39m=\u001b[39m\u001b[39m1\u001b[39m)  \u001b[39m# Apply softmax activation\u001b[39;00m\n\u001b[1;32m     <a href='vscode-notebook-cell:/Users/vadimmakarov/Documents/Work_home/submission/train/train.ipynb#X43sZmlsZQ%3D%3D?line=23'>24</a>\u001b[0m \u001b[39mreturn\u001b[39;00m output\n",
      "File \u001b[0;32m~/.pyenv/versions/3.9.1/lib/python3.9/site-packages/torch/nn/modules/module.py:1518\u001b[0m, in \u001b[0;36mModule._wrapped_call_impl\u001b[0;34m(self, *args, **kwargs)\u001b[0m\n\u001b[1;32m   1516\u001b[0m     \u001b[39mreturn\u001b[39;00m \u001b[39mself\u001b[39m\u001b[39m.\u001b[39m_compiled_call_impl(\u001b[39m*\u001b[39margs, \u001b[39m*\u001b[39m\u001b[39m*\u001b[39mkwargs)  \u001b[39m# type: ignore[misc]\u001b[39;00m\n\u001b[1;32m   1517\u001b[0m \u001b[39melse\u001b[39;00m:\n\u001b[0;32m-> 1518\u001b[0m     \u001b[39mreturn\u001b[39;00m \u001b[39mself\u001b[39;49m\u001b[39m.\u001b[39;49m_call_impl(\u001b[39m*\u001b[39;49margs, \u001b[39m*\u001b[39;49m\u001b[39m*\u001b[39;49mkwargs)\n",
      "File \u001b[0;32m~/.pyenv/versions/3.9.1/lib/python3.9/site-packages/torch/nn/modules/module.py:1527\u001b[0m, in \u001b[0;36mModule._call_impl\u001b[0;34m(self, *args, **kwargs)\u001b[0m\n\u001b[1;32m   1522\u001b[0m \u001b[39m# If we don't have any hooks, we want to skip the rest of the logic in\u001b[39;00m\n\u001b[1;32m   1523\u001b[0m \u001b[39m# this function, and just call forward.\u001b[39;00m\n\u001b[1;32m   1524\u001b[0m \u001b[39mif\u001b[39;00m \u001b[39mnot\u001b[39;00m (\u001b[39mself\u001b[39m\u001b[39m.\u001b[39m_backward_hooks \u001b[39mor\u001b[39;00m \u001b[39mself\u001b[39m\u001b[39m.\u001b[39m_backward_pre_hooks \u001b[39mor\u001b[39;00m \u001b[39mself\u001b[39m\u001b[39m.\u001b[39m_forward_hooks \u001b[39mor\u001b[39;00m \u001b[39mself\u001b[39m\u001b[39m.\u001b[39m_forward_pre_hooks\n\u001b[1;32m   1525\u001b[0m         \u001b[39mor\u001b[39;00m _global_backward_pre_hooks \u001b[39mor\u001b[39;00m _global_backward_hooks\n\u001b[1;32m   1526\u001b[0m         \u001b[39mor\u001b[39;00m _global_forward_hooks \u001b[39mor\u001b[39;00m _global_forward_pre_hooks):\n\u001b[0;32m-> 1527\u001b[0m     \u001b[39mreturn\u001b[39;00m forward_call(\u001b[39m*\u001b[39;49margs, \u001b[39m*\u001b[39;49m\u001b[39m*\u001b[39;49mkwargs)\n\u001b[1;32m   1529\u001b[0m \u001b[39mtry\u001b[39;00m:\n\u001b[1;32m   1530\u001b[0m     result \u001b[39m=\u001b[39m \u001b[39mNone\u001b[39;00m\n",
      "File \u001b[0;32m~/.pyenv/versions/3.9.1/lib/python3.9/site-packages/torch/nn/modules/linear.py:114\u001b[0m, in \u001b[0;36mLinear.forward\u001b[0;34m(self, input)\u001b[0m\n\u001b[1;32m    113\u001b[0m \u001b[39mdef\u001b[39;00m \u001b[39mforward\u001b[39m(\u001b[39mself\u001b[39m, \u001b[39minput\u001b[39m: Tensor) \u001b[39m-\u001b[39m\u001b[39m>\u001b[39m Tensor:\n\u001b[0;32m--> 114\u001b[0m     \u001b[39mreturn\u001b[39;00m F\u001b[39m.\u001b[39;49mlinear(\u001b[39minput\u001b[39;49m, \u001b[39mself\u001b[39;49m\u001b[39m.\u001b[39;49mweight, \u001b[39mself\u001b[39;49m\u001b[39m.\u001b[39;49mbias)\n",
      "\u001b[0;31mKeyboardInterrupt\u001b[0m: "
     ]
    }
   ],
   "source": [
    "import matplotlib.pyplot as plt\n",
    "\n",
    "lstm_classifier.train()\n",
    "for epoch in range(1, epochs):\n",
    "\t# with timex():\n",
    "\t# \txb, yb, _ = get_batch_from_file_parallel('train', 0.9, 256, 64)\n",
    "\t# with timex():\n",
    "\t# batch = train_batch_queue.get()\n",
    "\tbatch = accumulate_and_combine_batches(4, train_files_batch_queue_d3, train_files_batch_queue_add1) #train_files_batch_queue.get()\n",
    "\tif batch is None:\n",
    "\t\tcontinue  # Break the training loop if no more batches are available\n",
    "\txb, yb, zb = batch\n",
    "\n",
    "\ty_preds = lstm_classifier(xb.to(device))\n",
    "\tloss = loss_fn(y_preds, yb.to(device)) ## Calculate Loss\n",
    "\t# print(y_preds, yb)\n",
    "\t# print(y_preds[0][-2])\n",
    "\t# if(y_preds[0][-2] > 0.1):\n",
    "\t# \tbreak\n",
    "\t# print(loss.data)\n",
    "\n",
    "\toptimizer.zero_grad() ## Clear previously calculated gradients\n",
    "\tloss.backward() ## Calculates Gradients\n",
    "\toptimizer.step() ## Update network weights.\n",
    "\t\n",
    "\tloss = loss.item()\n",
    "\n",
    "\tif epoch % 50 == 0:  # Calculate validation loss and accuracy every 10 epochs\n",
    "\t\tval_data, val_labels, labels_indexes = accumulate_and_combine_batches(4, validate_files_batch_queue_d3, validate_files_batch_queue_add1)\n",
    "\t\t# print(val_data, val_labels, labels_indexes)\n",
    "\t\tval_loss, val_accuracy = calculate_val_loss_and_accuracy(lstm_classifier, val_data, val_labels, labels_indexes, loss_fn, device)\n",
    "\t\tprint(f'Epoch {epoch}/{epochs}, Train Loss: {loss}, Validation Loss: {val_loss}, Validation Accuracy: {val_accuracy}')# Append metrics to lists\n",
    "\t\t\n",
    "\t\ttrain_losses.append(loss)\n",
    "\t\tval_losses.append(val_loss)\n",
    "\t\tval_accuracies.append(val_accuracy)\n",
    "\telse:\n",
    "\t\tprint(f'Epoch {epoch}/{epochs}, Train Loss: {loss}')\n",
    "\n"
   ]
  },
  {
   "cell_type": "code",
   "execution_count": 33,
   "metadata": {},
   "outputs": [
    {
     "data": {
      "image/png": "[encoded data removed]",
      "text/plain": [
       "<Figure size 1200x500 with 2 Axes>"
      ]
     },
     "metadata": {},
     "output_type": "display_data"
    }
   ],
   "source": [
    "# Plot the training and validation metrics\n",
    "plt.figure(figsize=(12, 5))\n",
    "\n",
    "# Loss plot\n",
    "plt.subplot(1, 2, 1)\n",
    "plt.plot(range(1, len(train_losses) + 1), train_losses, label='Train Loss')\n",
    "plt.plot(range(1, len(val_losses) + 1), val_losses, label='Validation Loss')\n",
    "plt.xlabel('Epoch')\n",
    "plt.ylabel('Loss')\n",
    "plt.legend()\n",
    "plt.title('Training and Validation Loss')\n",
    "\n",
    "# Accuracy plot\n",
    "plt.subplot(1, 2, 2)\n",
    "plt.plot(range(1, len(val_accuracies) + 1), val_accuracies, label='Validation Accuracy')\n",
    "plt.xlabel('Epoch')\n",
    "plt.ylabel('Accuracy')\n",
    "plt.legend()\n",
    "plt.title('Validation Accuracy')\n",
    "\n",
    "# Show the plots\n",
    "plt.tight_layout()\n",
    "plt.show()"
   ]
  },
  {
   "cell_type": "code",
   "execution_count": 26,
   "metadata": {},
   "outputs": [],
   "source": [
    "torch.save(lstm_classifier.state_dict(), \"./model.bin\")"
   ]
  },
  {
   "cell_type": "code",
   "execution_count": null,
   "metadata": {},
   "outputs": [],
   "source": [
    "!pip install -U scikit-learn==1.3.0 --no-cache"
   ]
  },
  {
   "cell_type": "code",
   "execution_count": 58,
   "metadata": {},
   "outputs": [
    {
     "name": "stdout",
     "output_type": "stream",
     "text": [
      "Validation Loss: 2.6326308250427246, Validation Accuracy: 0.7944827675819397\n"
     ]
    },
    {
     "data": {
      "image/png": "[encoded data removed]",
      "text/plain": [
       "<Figure size 480x480 with 2 Axes>"
      ]
     },
     "metadata": {},
     "output_type": "display_data"
    }
   ],
   "source": [
    "import numpy as np\n",
    "import torch\n",
    "import matplotlib.pyplot as plt\n",
    "\n",
    "# Define eval_model for PyTorch\n",
    "def eval_model(model, x, y_true,\n",
    "               class_labels=[0, 1],\n",
    "               cm_round=3,\n",
    "               title='',\n",
    "               figsize=(6, 6)):  # Reduce figsize for better visualization\n",
    "\n",
    "    model.eval()  # Set the model to evaluation mode\n",
    "    with torch.no_grad():\n",
    "        y_true_labels = torch.argmax(y_true, dim=1).cpu().numpy()\n",
    "        y_pred = model(x)\n",
    "        y_pred_labels = torch.argmax(y_pred, dim=1).cpu().numpy()\n",
    "\n",
    "        # Calculate confusion matrix\n",
    "        num_classes = len(class_labels)\n",
    "        cm = np.zeros((num_classes, num_classes), dtype=int)\n",
    "        for i in range(len(y_true_labels)):\n",
    "            cm[y_true_labels[i]][y_pred_labels[i]] += 1\n",
    "\n",
    "        # Plot confusion matrix\n",
    "        dpi = 80  # Adjust DPI for better visualization\n",
    "        fig, ax = plt.subplots(figsize=figsize, dpi=dpi)\n",
    "        ax.set_title(f'Neural Network {title}: Confusion Matrix', fontsize=10)\n",
    "        cax = ax.matshow(cm, cmap=plt.cm.Blues)\n",
    "        plt.colorbar(cax)\n",
    "\n",
    "        for i in range(num_classes):\n",
    "            for j in range(num_classes):\n",
    "                plt.text(j, i, str(cm[i, j]), va='center', ha='center', color='black')\n",
    "\n",
    "        plt.xlabel('Predicted Classes', fontsize=10)\n",
    "        plt.ylabel('True Classes', fontsize=10)\n",
    "        plt.xticks(np.arange(num_classes), class_labels)\n",
    "        plt.yticks(np.arange(num_classes), class_labels)\n",
    "\n",
    "        plt.show()\n",
    "\n",
    "# Usage remains the same, replace this with your data and model\n",
    "# val_data, val_labels, labels_indexes = accumulate_batches(50, train_files_batch_queue_add1)\n",
    "val_data, val_labels, labels_indexes = accumulate_and_combine_batches(50, validate_files_batch_queue_d3, validate_files_batch_queue_add1)\n",
    "val_loss, val_accuracy = calculate_val_loss_and_accuracy(lstm_classifier, val_data, val_labels, labels_indexes, loss_fn, device)\n",
    "print(f'Validation Loss: {val_loss}, Validation Accuracy: {val_accuracy}')\n",
    "eval_model(lstm_classifier, val_data, val_labels, class_labels=languages_to_extract, title='LSTM Classifier')\n"
   ]
  },
  {
   "cell_type": "code",
   "execution_count": 62,
   "metadata": {},
   "outputs": [
    {
     "data": {
      "image/png": "[encoded data removed]",
      "text/plain": [
       "<Figure size 1000x600 with 1 Axes>"
      ]
     },
     "metadata": {},
     "output_type": "display_data"
    }
   ],
   "source": [
    "import numpy as np\n",
    "import torch\n",
    "import matplotlib.pyplot as plt\n",
    "\n",
    "def plot_probability_distribution(model, x, labels_indexes, class_labels, title='', figsize=(10, 6)):\n",
    "\tmodel.eval()  # Set the model to evaluation mode\n",
    "\twith torch.no_grad():\n",
    "\t\ty_pred = model(x).cpu().numpy()  # Get model outputs\n",
    "\n",
    "\n",
    "\t\t# Number of classes and samples\n",
    "\t\tnum_classes = len(class_labels)\n",
    "\t\tnum_samples = y_pred.shape[0]\n",
    "\n",
    "\t\t# Create a figure and axis\n",
    "\t\tfig, ax = plt.subplots(figsize=figsize)\n",
    "\t\tax.set_title(f'Neural Network {title}: Probability Distribution', fontsize=10)\n",
    "\n",
    "\t\t# Iterate over each sample\n",
    "\t\tfor i in range(num_samples):\n",
    "\t\t\t# For each class, plot the probability\n",
    "\t\t\tfor j in range(num_classes):\n",
    "\t\t\t\tif j == np.argmax(y_pred[i]):\n",
    "\t\t\t\t\tif(labels_indexes[i] == j):\n",
    "\t\t\t\t\t\tcolor = 'red'\n",
    "\t\t\t\t\telse:\n",
    "\t\t\t\t\t\tcolor = 'blue'\n",
    "\t\t\t\t\tax.scatter(j, y_pred[i][j], color=color, s=2)\n",
    "\t\t\t\telse:\n",
    "\t\t\t\t\tcolor = 'black'  # Red for max prob, black otherwise\n",
    "\t\t\t\t# ax.scatter(j, y_pred[i][j], color=color, s=2)\n",
    "\n",
    "\t\t# Set labels and ticks\n",
    "\t\tplt.xlabel('Class Index', fontsize=10)\n",
    "\t\tplt.ylabel('Probability', fontsize=10)\n",
    "\t\tplt.xticks(np.arange(num_classes), class_labels, rotation=15)\n",
    "\t\t\n",
    "\t\tplt.yticks(np.arange(0, 1.1, 0.1))  # Assuming probabilities are between 0 and 1\n",
    "\n",
    "\t\tplt.show()\n",
    "\n",
    "# Usage example (replace with your data and model):\n",
    "val_data, val_labels, labels_indexes = accumulate_and_combine_batches(50, validate_files_batch_queue_d3, validate_files_batch_queue_add1)\n",
    "plot_probability_distribution(lstm_classifier, val_data, labels_indexes, class_labels=[*range(len(languages_to_extract))], title='LSTM Classifier')\n",
    "\n"
   ]
  },
  {
   "cell_type": "code",
   "execution_count": 28,
   "metadata": {},
   "outputs": [],
   "source": [
    "import onnx\n",
    "import openvino as ov\n",
    "from pathlib import Path\n",
    "import warnings"
   ]
  },
  {
   "cell_type": "code",
   "execution_count": 29,
   "metadata": {},
   "outputs": [
    {
     "name": "stdout",
     "output_type": "stream",
     "text": [
      "torch.Size([50258, 8])\n"
     ]
    }
   ],
   "source": [
    "\n",
    "import copy  # Import the 'copy' module\n",
    "# Define a function to create a copy of the model with an updated embedding layer\n",
    "def copy_model_with_updated_embedding(model):\n",
    "\t# Create a deep copy of the model\n",
    "\tnew_model = copy.deepcopy(model)\n",
    "\n",
    "\t# Find the embedding layer in the model (you may need to adjust this based on your model structure)\n",
    "\tfor name, layer in new_model.named_modules():\n",
    "\t\tif isinstance(layer, nn.Embedding):\n",
    "\t\t\t# Update the embedding layer by adding 1 to its vocabulary size\n",
    "\t\t\tlayer.num_embeddings += 1\n",
    "\t\t\tbreak  # Assuming there's only one embedding layer, you can adjust this if needed\n",
    "\n",
    "\treturn new_model\n",
    "# Load your original model (lstm_classifier) and copy it with an updated embedding layer\n",
    "# lstm_classifier = torch.load('your_original_model.pth')  # Load your original model\n",
    "updated_model = copy_model_with_updated_embedding(lstm_classifier)\n",
    "\n",
    "# Get the current weights from the embedding layer\n",
    "current_weights = updated_model.embedding_layer[0].weight.data\n",
    "\n",
    "# Create a new tensor with the desired size\n",
    "# Initialize the new row to zeros (or any other values you choose)\n",
    "new_weights = torch.cat([current_weights, torch.zeros(1, current_weights.size(1)).to(device)], dim=0)\n",
    "\n",
    "# Replace the original weight tensor with the new tensor\n",
    "updated_model.embedding_layer[0].weight = torch.nn.Parameter(new_weights)\n",
    "\n",
    "# Optionally, move the new weights tensor to the same device as the original weights\n",
    "updated_model.embedding_layer[0].weight = updated_model.embedding_layer[0].weight.to(current_weights.device)\n",
    "\n",
    "# Set the model to evaluation mode\n",
    "updated_model.eval()\n",
    "print(updated_model.embedding_layer[0].weight.size())"
   ]
  },
  {
   "cell_type": "code",
   "execution_count": 30,
   "metadata": {},
   "outputs": [
    {
     "name": "stdout",
     "output_type": "stream",
     "text": [
      "torch.Size([50257, 8])\n"
     ]
    },
    {
     "data": {
      "text/plain": [
       "LSTMClassifier(\n",
       "  (embedding_layer): Sequential(\n",
       "    (0): Embedding(50257, 8)\n",
       "    (1): Dropout(p=0.1, inplace=False)\n",
       "  )\n",
       "  (lstm): LSTM(8, 80, num_layers=2, batch_first=True)\n",
       "  (linear): Linear(in_features=80, out_features=29, bias=True)\n",
       "  (dropout): Dropout(p=0.001, inplace=False)\n",
       ")"
      ]
     },
     "execution_count": 30,
     "metadata": {},
     "output_type": "execute_result"
    }
   ],
   "source": [
    "\n",
    "print(lstm_classifier.embedding_layer[0].weight.size())\n",
    "lstm_classifier.eval()"
   ]
  },
  {
   "cell_type": "code",
   "execution_count": 31,
   "metadata": {},
   "outputs": [
    {
     "data": {
      "text/plain": [
       "LSTMClassifier(\n",
       "  (embedding_layer): Sequential(\n",
       "    (0): Embedding(50258, 8)\n",
       "    (1): Dropout(p=0.1, inplace=False)\n",
       "  )\n",
       "  (lstm): LSTM(8, 80, num_layers=2, batch_first=True)\n",
       "  (linear): Linear(in_features=80, out_features=29, bias=True)\n",
       "  (dropout): Dropout(p=0.001, inplace=False)\n",
       ")"
      ]
     },
     "execution_count": 31,
     "metadata": {},
     "output_type": "execute_result"
    }
   ],
   "source": [
    "updated_model.eval()"
   ]
  },
  {
   "cell_type": "code",
   "execution_count": 32,
   "metadata": {},
   "outputs": [
    {
     "name": "stdout",
     "output_type": "stream",
     "text": [
      "EPOCH ENDED\n",
      "batch_files: 0/2\n"
     ]
    },
    {
     "data": {
      "text/plain": [
       "([tensor([[17174, 46068,   198,   198,    34,  3185, 38162,  9947, 28536,    25,\n",
       "             628,   220,   383,  2723,  2438,   287,   428,  8619,   318,  2810,\n",
       "            1479,   286,   198,   220,  3877,   284,  2687,   508,  3382,   340,\n",
       "              13,   220,   632,   318,   287,   262,  1171,  7386,   198,   220,\n",
       "             290,  4361,   743,   307,   973,   416,  9599,   329,   597,  4007,\n",
       "              13,   220,   632,   198,   220,   318,  2810,   366,  1921,  3180,\n",
       "               1,   351,   645, 18215,   286,   597,  1611,   198,   220, 16014,\n",
       "              13,   220,  1114,  2252,  3307,   766,   262, 20832, 11682,  3696,\n",
       "             287,   198,   220,   262,   266,    77,  8019,  2560,  8619,    13,\n",
       "             198,   198,    32, 24318,  1581,    25,   628,   220,  2561,   399,\n",
       "            7167,   198,   198, 17174, 17174, 46068,    14,   198,   198,     2,\n",
       "           17256,  1279, 11018,    13,    71,    29,   198,   198,     2, 17256,\n",
       "             366,   675,  8019,    13,    71,     1,   198,     2, 17256,   366,\n",
       "             675,   292, 17034,    13,    71,     1,   198,     2, 17256,   366,\n",
       "             675, 11883,    13,    71,     1,   198,   198,     2, 17256,   366,\n",
       "             675,    66,   489,    87,    13,    71,     1,   198,     2, 17256,\n",
       "             366,   675,   487,    83,    13,    71,     1,   628,   198,   198,\n",
       "           12001,   266,    77,    62,    66,   489, 50257, 50257, 50257, 50257,\n",
       "           50257, 50257, 50257, 50257, 50257, 50257, 50257, 50257, 50257, 50257,\n",
       "           50257, 50257, 50257, 50257, 50257, 50257, 50257, 50257, 50257, 50257,\n",
       "           50257, 50257, 50257, 50257, 50257, 50257, 50257, 50257, 50257, 50257,\n",
       "           50257, 50257, 50257, 50257, 50257, 50257, 50257, 50257, 50257, 50257,\n",
       "           50257, 50257, 50257, 50257, 50257, 50257, 50257, 50257, 50257, 50257,\n",
       "           50257, 50257, 50257, 50257, 50257, 50257, 50257, 50257, 50257, 50257,\n",
       "           50257, 50257, 50257, 50257, 50257, 50257, 50257, 50257, 50257, 50257,\n",
       "           50257, 50257, 50257, 50257, 50257, 50257]], device='mps:0')],\n",
       " [tensor([[0., 1., 0., 0., 0., 0., 0., 0., 0., 0., 0., 0., 0., 0., 0., 0., 0., 0.,\n",
       "           0., 0., 0., 0., 0., 0., 0., 0., 0., 0., 0.]], device='mps:0')])"
      ]
     },
     "execution_count": 32,
     "metadata": {},
     "output_type": "execute_result"
    }
   ],
   "source": [
    "# xb, yb, _ = train_batch_queue.get()\n",
    "xb, yb, _ = train_files_batch_queue_d3.get()\n",
    "# Choose the index of the line you want to extract\n",
    "line_index = 0  # Change this to the desired index\n",
    "\n",
    "# Extract the specific line from xb and yb\n",
    "xb = xb[line_index].unsqueeze(0)\n",
    "yb = yb[line_index].unsqueeze(0)\n",
    "xb, yb\n",
    "\n",
    "val_data, val_labels, labels_indexes = train_files_batch_queue_d3.get()\n",
    "# val_data, val_labels, labels_indexes = get_batch_full_size_from_file('test', 0.9, 1000, 64)\n",
    "# Initialize empty lists to store the split lines\n",
    "xb_split = []\n",
    "yb_split = []\n",
    "\n",
    "# Iterate through the lines and split the tensors\n",
    "for line_index in range(1):#val_data.size(0)):  # Assuming the lines are along the first dimension (0)\n",
    "\txb_line = val_data[line_index].unsqueeze(0)\n",
    "\tyb_line = val_labels[line_index].unsqueeze(0)\n",
    "\n",
    "\t# Append the split lines to the respective lists\n",
    "\txb_split.append(xb_line)\n",
    "\tyb_split.append(yb_line)\n",
    "\n",
    "xb_split, yb_split"
   ]
  },
  {
   "cell_type": "code",
   "execution_count": 33,
   "metadata": {},
   "outputs": [
    {
     "name": "stdout",
     "output_type": "stream",
     "text": [
      "torch.Size([1, 29])\n"
     ]
    }
   ],
   "source": [
    "xb_single = xb.to(device)\n",
    "\n",
    "# Make predictions for the single input sequence\n",
    "y_preds_single = updated_model(xb_single)\n",
    "\n",
    "# Now y_preds_single will have shape [1, 29]\n",
    "print(y_preds_single.shape)"
   ]
  },
  {
   "cell_type": "code",
   "execution_count": 34,
   "metadata": {},
   "outputs": [
    {
     "name": "stdout",
     "output_type": "stream",
     "text": [
      "ONNX model exported to model.onnx.\n",
      "graph main_graph (\n",
      "  %input[INT64, batch_sizexsequence_length]\n",
      ") initializers (\n",
      "  %embedding_layer.0.weight[FLOAT, 50258x8]\n",
      "  %linear.weight[FLOAT, 29x80]\n",
      "  %linear.bias[FLOAT, 29]\n",
      "  %onnx::LSTM_177[FLOAT, 1x320x8]\n",
      "  %onnx::LSTM_178[FLOAT, 1x320x80]\n",
      "  %onnx::LSTM_179[FLOAT, 1x640]\n",
      "  %onnx::LSTM_197[FLOAT, 1x320x80]\n",
      "  %onnx::LSTM_198[FLOAT, 1x320x80]\n",
      "  %onnx::LSTM_199[FLOAT, 1x640]\n",
      ") {\n",
      "  %/embedding_layer/embedding_layer.0/Constant_output_0 = Constant[value = <Scalar Tensor []>]()\n",
      "  %/embedding_layer/embedding_layer.0/Gather_output_0 = Gather(%embedding_layer.0.weight, %input)\n",
      "  %/RandomNormal_output_0 = RandomNormal[dtype = 1, shape = [2, 1, 80]]()\n",
      "  %/Cast_output_0 = Cast[to = 1](%/RandomNormal_output_0)\n",
      "  %/RandomNormal_1_output_0 = RandomNormal[dtype = 1, shape = [2, 1, 80]]()\n",
      "  %/Cast_1_output_0 = Cast[to = 1](%/RandomNormal_1_output_0)\n",
      "  %/lstm/Transpose_output_0 = Transpose[perm = [1, 0, 2]](%/embedding_layer/embedding_layer.0/Gather_output_0)\n",
      "  %/lstm/Constant_output_0 = Constant[value = <Tensor>]()\n",
      "  %/lstm/Constant_1_output_0 = Constant[value = <Tensor>]()\n",
      "  %/lstm/Constant_2_output_0 = Constant[value = <Tensor>]()\n",
      "  %/lstm/Slice_output_0 = Slice(%/Cast_output_0, %/lstm/Constant_1_output_0, %/lstm/Constant_2_output_0, %/lstm/Constant_output_0)\n",
      "  %/lstm/Constant_3_output_0 = Constant[value = <Tensor>]()\n",
      "  %/lstm/Constant_4_output_0 = Constant[value = <Tensor>]()\n",
      "  %/lstm/Constant_5_output_0 = Constant[value = <Tensor>]()\n",
      "  %/lstm/Slice_1_output_0 = Slice(%/Cast_1_output_0, %/lstm/Constant_4_output_0, %/lstm/Constant_5_output_0, %/lstm/Constant_3_output_0)\n",
      "  %/lstm/LSTM_output_0, %/lstm/LSTM_output_1, %/lstm/LSTM_output_2 = LSTM[hidden_size = 80](%/lstm/Transpose_output_0, %onnx::LSTM_177, %onnx::LSTM_178, %onnx::LSTM_179, %, %/lstm/Slice_output_0, %/lstm/Slice_1_output_0)\n",
      "  %/lstm/Squeeze_output_0 = Squeeze[axes = [1]](%/lstm/LSTM_output_0)\n",
      "  %/lstm/Constant_6_output_0 = Constant[value = <Tensor>]()\n",
      "  %/lstm/Constant_7_output_0 = Constant[value = <Tensor>]()\n",
      "  %/lstm/Constant_8_output_0 = Constant[value = <Tensor>]()\n",
      "  %/lstm/Slice_2_output_0 = Slice(%/Cast_output_0, %/lstm/Constant_7_output_0, %/lstm/Constant_8_output_0, %/lstm/Constant_6_output_0)\n",
      "  %/lstm/Constant_9_output_0 = Constant[value = <Tensor>]()\n",
      "  %/lstm/Constant_10_output_0 = Constant[value = <Tensor>]()\n",
      "  %/lstm/Constant_11_output_0 = Constant[value = <Tensor>]()\n",
      "  %/lstm/Slice_3_output_0 = Slice(%/Cast_1_output_0, %/lstm/Constant_10_output_0, %/lstm/Constant_11_output_0, %/lstm/Constant_9_output_0)\n",
      "  %/lstm/LSTM_1_output_0, %/lstm/LSTM_1_output_1, %/lstm/LSTM_1_output_2 = LSTM[hidden_size = 80](%/lstm/Squeeze_output_0, %onnx::LSTM_197, %onnx::LSTM_198, %onnx::LSTM_199, %, %/lstm/Slice_2_output_0, %/lstm/Slice_3_output_0)\n",
      "  %/lstm/Squeeze_1_output_0 = Squeeze[axes = [1]](%/lstm/LSTM_1_output_0)\n",
      "  %/lstm/Transpose_1_output_0 = Transpose[perm = [1, 0, 2]](%/lstm/Squeeze_1_output_0)\n",
      "  %/Gather_output_0 = Gather[axis = 1](%/lstm/Transpose_1_output_0, %/embedding_layer/embedding_layer.0/Constant_output_0)\n",
      "  %/linear/Gemm_output_0 = Gemm[alpha = 1, beta = 1, transB = 1](%/Gather_output_0, %linear.weight, %linear.bias)\n",
      "  %output = Softmax[axis = 1](%/linear/Gemm_output_0)\n",
      "  return %output\n",
      "}\n"
     ]
    }
   ],
   "source": [
    "# batch = train_batch_queue.get()\n",
    "# xb, yb, _ = batch\n",
    "# Get the first batch\n",
    "dummy_input = xb.to(device)\n",
    "dummy_input = xb[:, :1].to(device)\n",
    "\n",
    "model_file_name = \"model.onnx\"\n",
    "onnx_path = Path(model_file_name)\n",
    "with warnings.catch_warnings():\n",
    "\twarnings.filterwarnings(\"ignore\")\n",
    "\tif not onnx_path.exists():\n",
    "\t\ttorch.onnx.export(\n",
    "\t\t\tupdated_model.to(device),\n",
    "\t\t\tdummy_input,\n",
    "\t\t\tonnx_path,\t\t\t\t\t\t# where to save the model (can be a file or file-like object)\n",
    "\t\t\tinput_names = ['input'],\t\t# the model's input names\n",
    "\t\t\toutput_names = ['output'],\n",
    "\t\t\tdynamic_axes={'input': {0: 'batch_size', 1: 'sequence_length'}},  # Adjust as needed\n",
    "\t\t\topset_version=11  # Adjust the version based on your ONNX Runtime version\n",
    "\t\t)\n",
    "\t\tprint(f\"ONNX model exported to {onnx_path}.\")\n",
    "\telse:\n",
    "\t\tprint(f\"ONNX model {onnx_path} already exists.\")\n",
    "model = onnx.load(model_file_name)\n",
    "onnx.checker.check_model(model)\n",
    "\n",
    "# Access the model's graph\n",
    "graph = model.graph\n",
    "\n",
    "# Print the graph to see its structure\n",
    "print(onnx.helper.printable_graph(graph))"
   ]
  },
  {
   "cell_type": "markdown",
   "metadata": {},
   "source": [
    "NOT USE! quantization reduces accuracy too much (~50%)"
   ]
  },
  {
   "cell_type": "code",
   "execution_count": 35,
   "metadata": {},
   "outputs": [
    {
     "name": "stderr",
     "output_type": "stream",
     "text": [
      "WARNING:root:Please consider to run pre-processing before quantization. Refer to example: https://github.com/microsoft/onnxruntime-inference-examples/blob/main/quantization/image_classification/cpu/ReadMe.md \n"
     ]
    }
   ],
   "source": [
    "# import onnx\n",
    "# from onnxruntime.quantization import quantize_dynamic, QuantType\n",
    "# model_fp32 = 'model.onnx'\n",
    "# model_quant = 'model.quant.onnx'\n",
    "# quantized_model = quantize_dynamic(model_fp32, model_quant)\n"
   ]
  }
 ],
 "metadata": {
  "kernelspec": {
   "display_name": "Python 3",
   "language": "python",
   "name": "python3"
  },
  "language_info": {
   "codemirror_mode": {
    "name": "ipython",
    "version": 3
   },
   "file_extension": ".py",
   "mimetype": "text/x-python",
   "name": "python",
   "nbconvert_exporter": "python",
   "pygments_lexer": "ipython3",
   "version": "3.9.1"
  },
  "orig_nbformat": 4
 },
 "nbformat": 4,
 "nbformat_minor": 2
}
